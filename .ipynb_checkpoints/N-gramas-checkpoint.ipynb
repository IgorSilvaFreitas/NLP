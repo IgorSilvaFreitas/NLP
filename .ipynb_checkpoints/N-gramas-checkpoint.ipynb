{
 "cells": [
  {
   "cell_type": "code",
   "execution_count": 1,
   "id": "2ad4be28",
   "metadata": {},
   "outputs": [],
   "source": [
    "import numpy as np\n",
    "import sklearn"
   ]
  },
  {
   "cell_type": "code",
   "execution_count": 2,
   "id": "c52f6681",
   "metadata": {},
   "outputs": [
    {
     "name": "stdout",
     "output_type": "stream",
     "text": [
      "{'suponha': 6, 'que': 4, 'esse': 2, 'seja': 5, 'texto': 7, 'desejo': 1, 'comparar': 0, 'principal': 3}\n"
     ]
    }
   ],
   "source": [
    "from sklearn.feature_extraction.text import CountVectorizer\n",
    "\n",
    "texto_base = \"Suponha que esse seja o texto principal\"\n",
    "\n",
    "texto_comparado = \"Suponha que esse seja o texto que desejo comparar\"\n",
    "\n",
    "#Número de ngramas\n",
    "n = 1  #unigrama\n",
    "\n",
    "#instância o contador de ngramas\n",
    "counts = CountVectorizer(analyzer='word', ngram_range=(n,n))\n",
    "\n",
    "#criando dicionário de ngramas\n",
    "dic2int = counts.fit([texto_comparado, texto_base]).vocabulary_\n",
    "\n",
    "#printando dicionário de palavras:index\n",
    "print(dic2int)"
   ]
  },
  {
   "cell_type": "code",
   "execution_count": 3,
   "id": "f2378445",
   "metadata": {},
   "outputs": [
    {
     "name": "stdout",
     "output_type": "stream",
     "text": [
      "{'suponha que': 5, 'que esse': 3, 'esse seja': 1, 'seja texto': 4, 'texto que': 7, 'que desejo': 2, 'desejo comparar': 0, 'texto principal': 6}\n"
     ]
    }
   ],
   "source": [
    "## Mostrando outros exemplos\n",
    "\n",
    "#número de ngramas\n",
    "n = 2   #bigrama\n",
    "\n",
    "#contador de ngramas\n",
    "counts = CountVectorizer(analyzer = 'word', ngram_range = (n,n))\n",
    "\n",
    "#dicionário de ngramas\n",
    "dic2int = counts.fit([texto_comparado, texto_base]).vocabulary_\n",
    "\n",
    "# dicionário de palavras:index\n",
    "print(dic2int)"
   ]
  },
  {
   "cell_type": "code",
   "execution_count": 4,
   "id": "046c728e",
   "metadata": {},
   "outputs": [
    {
     "name": "stdout",
     "output_type": "stream",
     "text": [
      "{'suponha que esse': 5, 'que esse seja': 2, 'esse seja texto': 0, 'seja texto que': 4, 'texto que desejo': 6, 'que desejo comparar': 1, 'seja texto principal': 3}\n"
     ]
    }
   ],
   "source": [
    "## último exemplo\n",
    "\n",
    "#número de ngramas\n",
    "n = 3   #trigrama\n",
    "\n",
    "#contador de ngramas\n",
    "counts = CountVectorizer(analyzer = 'word', ngram_range = (n,n))\n",
    "\n",
    "#dicionário de ngramas\n",
    "dic2int = counts.fit([texto_comparado, texto_base]).vocabulary_\n",
    "\n",
    "#dicionário palavras:index\n",
    "print(dic2int)"
   ]
  },
  {
   "cell_type": "code",
   "execution_count": 5,
   "id": "2def55c8",
   "metadata": {},
   "outputs": [
    {
     "name": "stdout",
     "output_type": "stream",
     "text": [
      "vetor de ngramas:\n",
      "\n",
      " [[1 1 1 0 2 1 1 1]\n",
      " [0 0 1 1 1 1 1 1]]\n",
      "\n",
      "vetor de ngramas: \n",
      "\n",
      " {'suponha': 6, 'que': 4, 'esse': 2, 'seja': 5, 'texto': 7, 'desejo': 1, 'comparar': 0, 'principal': 3}\n"
     ]
    }
   ],
   "source": [
    "## Array de NGRAMAS\n",
    "\n",
    "#número de ngramas\n",
    "n = 1\n",
    "\n",
    "#contador de ngramas\n",
    "counts = CountVectorizer(analyzer = 'word', ngram_range = (n,n))\n",
    "\n",
    "#matriz de contagem de ngramas para ambos textos\n",
    "ngrams = counts.fit_transform([texto_comparado, texto_base])\n",
    "\n",
    "#contador de ngramas\n",
    "dic2int = counts.fit([texto_comparado, texto_base]).vocabulary_\n",
    "\n",
    "ngrams_array = ngrams.toarray()\n",
    "\n",
    "print('vetor de ngramas:\\n\\n', ngrams_array)\n",
    "print()\n",
    "print('vetor de ngramas: \\n\\n', dic2int)"
   ]
  },
  {
   "cell_type": "code",
   "execution_count": 6,
   "id": "79155e40",
   "metadata": {},
   "outputs": [
    {
     "name": "stdout",
     "output_type": "stream",
     "text": [
      "[0 0 1 0 1 1 1 1]\n"
     ]
    }
   ],
   "source": [
    "## verificando interseções (palavras que estão em ambos os textos)\n",
    "\n",
    "intersec_list = np.amin(ngrams_array, axis=0)\n",
    "print(intersec_list)"
   ]
  },
  {
   "cell_type": "code",
   "execution_count": 8,
   "id": "43012f24",
   "metadata": {},
   "outputs": [
    {
     "name": "stdout",
     "output_type": "stream",
     "text": [
      "5\n"
     ]
    }
   ],
   "source": [
    "intersec_count = np.sum(intersec_list)\n",
    "print(intersec_count)"
   ]
  },
  {
   "cell_type": "code",
   "execution_count": 7,
   "id": "154cbde6",
   "metadata": {},
   "outputs": [
    {
     "name": "stdout",
     "output_type": "stream",
     "text": [
      "8\n"
     ]
    }
   ],
   "source": [
    "index_A = 0\n",
    "A_count = np.sum(ngrams_array[index_A])\n",
    "print(A_count)"
   ]
  },
  {
   "cell_type": "code",
   "execution_count": 10,
   "id": "c70b2d7c",
   "metadata": {},
   "outputs": [
    {
     "name": "stdout",
     "output_type": "stream",
     "text": [
      "0.625\n"
     ]
    }
   ],
   "source": [
    "## grau de similaridade entre os textos (0 a 1)\n",
    "similaridade = intersec_count/A_count\n",
    "print(similaridade)"
   ]
  },
  {
   "cell_type": "code",
   "execution_count": 12,
   "id": "8718c224",
   "metadata": {},
   "outputs": [],
   "source": [
    "## Criando função para simplificador os passos acima\n",
    "\n",
    "def containment(ngram_array):\n",
    "    '''Cálcula o containment entre dois textos. Normaliza a interseção de ngramas entre os textos.\n",
    "    Argumentos:\n",
    "    ngram_array: Um array com as contagens de ngramas dos dois textos a serem comparados\n",
    "    \n",
    "    Retorna:\n",
    "    O valor de containmente normalizado'''\n",
    "    \n",
    "    # Cria uma lista que contém o valor minimo encontrado nas colunas\n",
    "    # 0 se não houver correspondência e 1+ para as palavras condinzentes\n",
    "    intersec_list = np.amin(ngram_array, axis = 0)\n",
    "    \n",
    "    # soma numeros de interseção\n",
    "    intersec_count = np.sum(intersec_list)\n",
    "    \n",
    "    #conta número de ngramas no texto\n",
    "    A_idx = 0\n",
    "    A_count = np.sum(ngram_array[A_idx])\n",
    "    \n",
    "    #similaridade\n",
    "    similaridade = intersec_count/A_count\n",
    "    \n",
    "    return similaridade\n"
   ]
  },
  {
   "cell_type": "code",
   "execution_count": 13,
   "id": "90b4b40d",
   "metadata": {},
   "outputs": [
    {
     "name": "stdout",
     "output_type": "stream",
     "text": [
      "Similaridade: 0.625\n"
     ]
    }
   ],
   "source": [
    " print('Similaridade:', containment(ngrams_array)) "
   ]
  },
  {
   "cell_type": "code",
   "execution_count": 14,
   "id": "4c832737",
   "metadata": {},
   "outputs": [
    {
     "name": "stdout",
     "output_type": "stream",
     "text": [
      "Similaridade: 0.5714285714285714\n"
     ]
    }
   ],
   "source": [
    "# mudando de unigrama para bigrama\n",
    "counts_2grams = CountVectorizer(analyzer = 'word', ngram_range = (2,2))\n",
    "bigram_counts = counts_2grams.fit_transform([texto_comparado, texto_base])\n",
    "\n",
    "#calculando similaridade\n",
    "print('Similaridade:', containment(bigram_counts.toarray()))"
   ]
  }
 ],
 "metadata": {
  "kernelspec": {
   "display_name": "Python 3",
   "language": "python",
   "name": "python3"
  },
  "language_info": {
   "codemirror_mode": {
    "name": "ipython",
    "version": 3
   },
   "file_extension": ".py",
   "mimetype": "text/x-python",
   "name": "python",
   "nbconvert_exporter": "python",
   "pygments_lexer": "ipython3",
   "version": "3.8.8"
  }
 },
 "nbformat": 4,
 "nbformat_minor": 5
}
