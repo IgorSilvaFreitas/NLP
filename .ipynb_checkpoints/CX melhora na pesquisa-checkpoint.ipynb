{
 "cells": [
  {
   "cell_type": "code",
   "execution_count": 9,
   "id": "69e9ec3f",
   "metadata": {
    "scrolled": true
   },
   "outputs": [],
   "source": [
    "from gensim.models import KeyedVectors\n",
    "\n",
    "embeddings_path = \"cbow_s50.txt\"\n",
    "\n",
    "# carrega o modelo\n",
    "embedding_model = KeyedVectors.load_word2vec_format(embeddings_path)\n",
    "\n",
    "# acessa os vetores\n",
    "p1 = \"games\"\n",
    "v1 = embedding_model[p1]\n",
    "\n",
    "p2 = \"playstation\"\n",
    "v2 = embedding_model[p1]\n",
    "\n",
    "# calcula a distancia\n",
    "d = embedding_model.distance(p1, p2)"
   ]
  },
  {
   "cell_type": "code",
   "execution_count": 19,
   "id": "d7bcfb3b",
   "metadata": {},
   "outputs": [],
   "source": [
    "def expansao(model, palavra, n):\n",
    "    print(embedding_model.most_similar(positive=[palavra], topn=n))"
   ]
  },
  {
   "cell_type": "code",
   "execution_count": 22,
   "id": "82cac0da",
   "metadata": {},
   "outputs": [
    {
     "name": "stdout",
     "output_type": "stream",
     "text": [
      "[('videogames', 0.812855064868927), ('consoles', 0.7960108518600464), ('mods', 0.7724236845970154), ('gamers', 0.7655943036079407), ('apps', 0.7568844556808472), ('seriados', 0.752438485622406), ('catacomb', 0.7468286156654358), ('remakes', 0.7463372945785522), ('mangás', 0.7428778409957886), ('beats', 0.7377694845199585)]\n"
     ]
    }
   ],
   "source": [
    "expansao(embedding_model, \"games\", 10)"
   ]
  },
  {
   "cell_type": "code",
   "execution_count": 24,
   "id": "1500790c",
   "metadata": {},
   "outputs": [
    {
     "name": "stdout",
     "output_type": "stream",
     "text": [
      "[('bar', 0.9501550197601318), ('quiosque', 0.943992555141449), ('hotel', 0.9267164468765259), ('supermercado', 0.9233779311180115), ('galpão', 0.903367280960083), ('armazém', 0.9003533720970154), ('chalé', 0.8987006545066833), ('açougue', 0.8958890438079834), ('albergue', 0.8958726525306702), ('lixão', 0.8952935338020325)]\n"
     ]
    }
   ],
   "source": [
    "palavra = \"restaurante\"\n",
    "\n",
    "n = 10\n",
    "\n",
    "expansao(embedding_model, palavra, n)"
   ]
  }
 ],
 "metadata": {
  "kernelspec": {
   "display_name": "Python 3",
   "language": "python",
   "name": "python3"
  },
  "language_info": {
   "codemirror_mode": {
    "name": "ipython",
    "version": 3
   },
   "file_extension": ".py",
   "mimetype": "text/x-python",
   "name": "python",
   "nbconvert_exporter": "python",
   "pygments_lexer": "ipython3",
   "version": "3.8.8"
  }
 },
 "nbformat": 4,
 "nbformat_minor": 5
}
