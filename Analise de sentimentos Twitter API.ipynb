{
 "cells": [
  {
   "cell_type": "code",
   "execution_count": 3,
   "id": "4e340657",
   "metadata": {},
   "outputs": [],
   "source": [
    "import tweepy\n",
    "from textblob import TextBlob\n",
    "import preprocessor as p\n",
    "import statistics\n",
    "from typing import List"
   ]
  },
  {
   "cell_type": "code",
   "execution_count": 29,
   "id": "29cfcc51",
   "metadata": {},
   "outputs": [],
   "source": [
    "# Acessando a API do twitter\n",
    "consumer_key = ''\n",
    "consumer_secret = ''\n",
    "\n",
    "auth = tweepy.AppAuthHandler(consumer_key, consumer_secret)\n",
    "api = tweepy.API(auth)"
   ]
  },
  {
   "cell_type": "code",
   "execution_count": 38,
   "id": "700e2ed6",
   "metadata": {},
   "outputs": [],
   "source": [
    "# Função para pegar os tweets da API\n",
    "def get_tweets(keyword: str) -> List[str]:\n",
    "    all_tweets = []\n",
    "    for tweet in tweepy.Cursor(api.search_tweets, q=keyword, tweet_mode='extended', lang='pt').items(30):  #apenas usando 30 tweets\n",
    "        all_tweets.append(tweet.full_text)\n",
    "    \n",
    "    return all_tweets"
   ]
  },
  {
   "cell_type": "code",
   "execution_count": 7,
   "id": "d9a67a7c",
   "metadata": {},
   "outputs": [],
   "source": [
    "# Função para timpar os tweets\n",
    "def clean_tweets(all_tweets: List[str]) -> List[str]:\n",
    "    tweets_clean = []\n",
    "    for tweet in all_tweets:\n",
    "        tweets_clean.append(p.clean(tweet))\n",
    "        \n",
    "    return tweets_clean"
   ]
  },
  {
   "cell_type": "code",
   "execution_count": 8,
   "id": "b82a3554",
   "metadata": {},
   "outputs": [],
   "source": [
    "# Função para gerar a polaridade de sentimento do tweet\n",
    "def get_sentiment(all_tweets: List[str]):\n",
    "    sentiment_scores = []\n",
    "    for tweet in all_tweets:\n",
    "        blob = TextBlob(tweet)\n",
    "        sentiment_scores.append(blob.sentiment.polarity)\n",
    "        \n",
    "    return sentiment_scores"
   ]
  },
  {
   "cell_type": "code",
   "execution_count": 36,
   "id": "b4651a69",
   "metadata": {},
   "outputs": [],
   "source": [
    "#gerando estatística para a analise de sentimentos\n",
    "def generate_average_sentiment_score(keyword: str) -> int:\n",
    "    tweets = get_tweets(keyword)\n",
    "    tweets_clean = clean_tweets(tweets)\n",
    "    sentiment_scores = get_sentiment(tweets_clean)\n",
    "    \n",
    "    average_score = statistics.mean(sentiment_scores)\n",
    "    \n",
    "    return average_score"
   ]
  },
  {
   "cell_type": "code",
   "execution_count": 39,
   "id": "17742bb5",
   "metadata": {
    "scrolled": true
   },
   "outputs": [
    {
     "name": "stdout",
     "output_type": "stream",
     "text": [
      "Qual time os brasileiros preferem ?\n",
      "flamengo\n",
      "...or...\n",
      "vasco\n",
      "Os brasileiro preferem o flamengo se comparado ao vasco!\n"
     ]
    }
   ],
   "source": [
    "#\n",
    "if __name__ == '__main__':\n",
    "    print('Qual time os brasileiros preferem ?')\n",
    "    first_thing = input()\n",
    "    print('...or...')\n",
    "    second_thing = input()\n",
    "    \n",
    "    first_score = generate_average_sentiment_score(first_thing)\n",
    "    second_score = generate_average_sentiment_score(second_thing)\n",
    "    \n",
    "    if (first_score > second_score):\n",
    "        print(f'Os brasileiro preferem o {first_thing} se comparado ao {second_thing}!')\n",
    "    else:\n",
    "        print(f'Os brasileiros prefrem o {second_thing} se comparado ao {first_thing}!')"
   ]
  }
 ],
 "metadata": {
  "kernelspec": {
   "display_name": "Python 3",
   "language": "python",
   "name": "python3"
  },
  "language_info": {
   "codemirror_mode": {
    "name": "ipython",
    "version": 3
   },
   "file_extension": ".py",
   "mimetype": "text/x-python",
   "name": "python",
   "nbconvert_exporter": "python",
   "pygments_lexer": "ipython3",
   "version": "3.8.8"
  }
 },
 "nbformat": 4,
 "nbformat_minor": 5
}
